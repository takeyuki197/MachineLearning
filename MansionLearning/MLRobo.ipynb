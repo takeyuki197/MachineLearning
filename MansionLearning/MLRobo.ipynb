{
 "cells": [
  {
   "cell_type": "code",
   "execution_count": 65,
   "metadata": {},
   "outputs": [],
   "source": [
    "import pandas as pd\n",
    "from sklearn.preprocessing import LabelEncoder\n",
    "from sklearn.preprocessing import OneHotEncoder\n",
    "from sklearn.model_selection import train_test_split\n",
    "from sklearn.ensemble import RandomForestRegressor\n",
    "from sklearn.metrics import r2_score\n",
    "import numpy as np\n",
    "import matplotlib.pyplot as plt"
   ]
  },
  {
   "cell_type": "code",
   "execution_count": 66,
   "metadata": {},
   "outputs": [
    {
     "name": "stdout",
     "output_type": "stream",
     "text": [
      "['定期借地権（地上権）' '定期借地権（賃借権）' '所有権' '旧法地上権' '旧法賃借権' '普通地上権' '普通賃借権']\n"
     ]
    }
   ],
   "source": [
    "df = pd.read_csv('./bunjou_cleaned.csv')\n",
    "\n",
    "label_columns = ['土地権利']\n",
    "\n",
    "for val in label_columns:\n",
    "    le = LabelEncoder()\n",
    "    le.fit(df[val])\n",
    "    print(le.classes_)\n",
    "    df[val] = le.transform(df[val])\n",
    "\n",
    "for val in label_columns:\n",
    "    df_oh = pd.get_dummies(df[val])\n",
    "    df = pd.concat([df, df_oh], axis=1)"
   ]
  },
  {
   "cell_type": "code",
   "execution_count": 67,
   "metadata": {},
   "outputs": [],
   "source": [
    "df_x = df.drop('価格', axis=1)\n",
    "df_y = df['価格']\n",
    "x_train, x_test, y_train, y_test = train_test_split(df_x, df_y, test_size=0.25, shuffle=True)"
   ]
  },
  {
   "cell_type": "code",
   "execution_count": 68,
   "metadata": {},
   "outputs": [
    {
     "data": {
      "text/plain": [
       "RandomForestRegressor(bootstrap=True, criterion='mse', max_depth=20,\n",
       "           max_features='auto', max_leaf_nodes=None,\n",
       "           min_impurity_decrease=0.0, min_impurity_split=None,\n",
       "           min_samples_leaf=1, min_samples_split=2,\n",
       "           min_weight_fraction_leaf=0.0, n_estimators=10, n_jobs=1,\n",
       "           oob_score=False, random_state=0, verbose=0, warm_start=False)"
      ]
     },
     "execution_count": 68,
     "metadata": {},
     "output_type": "execute_result"
    }
   ],
   "source": [
    "regr = RandomForestRegressor(max_depth=20, random_state=0)\n",
    "regr.fit(x_train, y_train)"
   ]
  },
  {
   "cell_type": "code",
   "execution_count": 70,
   "metadata": {},
   "outputs": [
    {
     "name": "stdout",
     "output_type": "stream",
     "text": [
      "0.8523850170246549\n"
     ]
    },
    {
     "data": {
      "text/plain": [
       "<matplotlib.collections.PathCollection at 0x1bfbbf96908>"
      ]
     },
     "execution_count": 70,
     "metadata": {},
     "output_type": "execute_result"
    },
    {
     "data": {
      "image/png": "[encoded data removed]",
      "text/plain": [
       "<Figure size 432x288 with 1 Axes>"
      ]
     },
     "metadata": {},
     "output_type": "display_data"
    }
   ],
   "source": [
    "y_pred = regr.predict(x_test)\n",
    "print(r2_score(y_test, y_pred))\n",
    "plt.scatter(y_test, y_pred)\n",
    "vals = np.array()"
   ]
  },
  {
   "cell_type": "code",
   "execution_count": 96,
   "metadata": {},
   "outputs": [],
   "source": [
    "otoku = []\n",
    "for i in range(0, len(y_pred)):\n",
    "    if y_pred[i] - y_test.values[i] >= 20000000 and y_test.values[i] <= 50000000:\n",
    "        otoku.append(i)"
   ]
  },
  {
   "cell_type": "code",
   "execution_count": 97,
   "metadata": {},
   "outputs": [
    {
     "data": {
      "text/plain": [
       "[48,\n",
       " 190,\n",
       " 231,\n",
       " 233,\n",
       " 324,\n",
       " 342,\n",
       " 357,\n",
       " 430,\n",
       " 499,\n",
       " 522,\n",
       " 538,\n",
       " 652,\n",
       " 744,\n",
       " 790,\n",
       " 803,\n",
       " 867,\n",
       " 898,\n",
       " 940,\n",
       " 969,\n",
       " 978]"
      ]
     },
     "execution_count": 97,
     "metadata": {},
     "output_type": "execute_result"
    }
   ],
   "source": [
    "len(otoku)\n",
    "otoku"
   ]
  },
  {
   "cell_type": "code",
   "execution_count": 89,
   "metadata": {},
   "outputs": [
    {
     "data": {
      "text/plain": [
       "2373     66800000.0\n",
       "3032     91800000.0\n",
       "3652     24800000.0\n",
       "2647     73800000.0\n",
       "2940     86800000.0\n",
       "477      36800000.0\n",
       "3318    128000000.0\n",
       "786      39800000.0\n",
       "2866     82800000.0\n",
       "4045     99000000.0\n",
       "2758     77500000.0\n",
       "727      39800000.0\n",
       "3891     65800000.0\n",
       "2513     69800000.0\n",
       "4190    274000000.0\n",
       "425      35800000.0\n",
       "781      39800000.0\n",
       "3956     76800000.0\n",
       "1813     54800000.0\n",
       "3490    180000000.0\n",
       "665      38900000.0\n",
       "3959     77800000.0\n",
       "2062     59800000.0\n",
       "4022     89800000.0\n",
       "3333    128000000.0\n",
       "3277    120000000.0\n",
       "2622     72800000.0\n",
       "1715     52800000.0\n",
       "469      36800000.0\n",
       "794      39800000.0\n",
       "           ...     \n",
       "2669     74800000.0\n",
       "2716     75000000.0\n",
       "2443     68800000.0\n",
       "2718     75800000.0\n",
       "2009     58800000.0\n",
       "3438    158000000.0\n",
       "1727     52800000.0\n",
       "4081    118000000.0\n",
       "1934     56800000.0\n",
       "78       26900000.0\n",
       "2282     64700000.0\n",
       "1109     44480000.0\n",
       "1733     52800000.0\n",
       "3281    120000000.0\n",
       "2665     74800000.0\n",
       "2777     78500000.0\n",
       "1146     44800000.0\n",
       "2040     59300000.0\n",
       "2347     65800000.0\n",
       "1585     49900000.0\n",
       "1533     49800000.0\n",
       "2230     62800000.0\n",
       "1673     51800000.0\n",
       "1832     54800000.0\n",
       "2703     75000000.0\n",
       "3446    158000000.0\n",
       "3926     69900000.0\n",
       "3076     94800000.0\n",
       "690      38990000.0\n",
       "2052     59800000.0\n",
       "Name: 価格, Length: 1054, dtype: float64"
      ]
     },
     "execution_count": 89,
     "metadata": {},
     "output_type": "execute_result"
    }
   ],
   "source": [
    "y_test"
   ]
  },
  {
   "cell_type": "code",
   "execution_count": null,
   "metadata": {},
   "outputs": [],
   "source": []
  }
 ],
 "metadata": {
  "kernelspec": {
   "display_name": "Python 3",
   "language": "python",
   "name": "python3"
  },
  "language_info": {
   "codemirror_mode": {
    "name": "ipython",
    "version": 3
   },
   "file_extension": ".py",
   "mimetype": "text/x-python",
   "name": "python",
   "nbconvert_exporter": "python",
   "pygments_lexer": "ipython3",
   "version": "3.6.5"
  }
 },
 "nbformat": 4,
 "nbformat_minor": 2
}
